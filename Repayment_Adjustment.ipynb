{
  "nbformat": 4,
  "nbformat_minor": 0,
  "metadata": {
    "colab": {
      "name": "Repayment Adjustment",
      "provenance": [],
      "collapsed_sections": [],
      "authorship_tag": "ABX9TyOYtnJmp3O4MvSN3FkeYZX7",
      "include_colab_link": true
    },
    "kernelspec": {
      "name": "python3",
      "display_name": "Python 3"
    },
    "language_info": {
      "name": "python"
    }
  },
  "cells": [
    {
      "cell_type": "markdown",
      "metadata": {
        "id": "view-in-github",
        "colab_type": "text"
      },
      "source": [
        "<a href=\"https://colab.research.google.com/github/erric-syd/installment-adjustment/blob/main/Repayment_Adjustment.ipynb\" target=\"_parent\"><img src=\"https://colab.research.google.com/assets/colab-badge.svg\" alt=\"Open In Colab\"/></a>"
      ]
    },
    {
      "cell_type": "markdown",
      "metadata": {
        "id": "ychuqXHZOfIC"
      },
      "source": [
        "Background:\n",
        "- Terdapat diff pada loan:loan_amount dan repayment:principal_paid_total\n",
        " \n",
        "Rekomendasi:\n",
        "- Apabila ada perbedaan, munculkan alert.\n",
        "- Apabila tidak ada, biarkan saja schedule nya.\n",
        "\n",
        "Solusi:\n",
        "- Apabila ada loan yang amount dan repayment ny terdapat \"diff\" dan repayment melebihi maturity, maka repayment tsb di 0-kan dan di group ke repayment yang sesuai dgn tgl maturity"
      ]
    },
    {
      "cell_type": "code",
      "metadata": {
        "id": "4G_bXzPPOY_2"
      },
      "source": [
        "import pandas as pd\n",
        "import numpy as np\n",
        "from datetime import timedelta\n",
        "\n",
        "pd.set_option('display.max_rows', 500)\n",
        "pd.set_option('display.float_format', lambda x: '%.3f' % x)"
      ],
      "execution_count": 1,
      "outputs": []
    },
    {
      "cell_type": "code",
      "metadata": {
        "id": "6bdpP9A_Ob2M"
      },
      "source": [
        "# Sample loan: Loan:loan_amount = 1000, tenor = 6\n",
        "dt_range = pd.date_range(start='2019-12', end='2020-06', freq='M') + pd.Timedelta(days=15)\n",
        "dt = []\n",
        "for x in range(len(dt_range)):\n",
        "  dt.append(pd.to_datetime(dt_range.date[x].strftime(\"%Y-%m-%d\")))\n",
        "\n",
        "df_repayment = pd.DataFrame(dt, columns=['repayment_date'])"
      ],
      "execution_count": 2,
      "outputs": []
    },
    {
      "cell_type": "code",
      "metadata": {
        "id": "-wFmO81adQNA"
      },
      "source": [
        "df_repayment['loan_id'] = '1'\n",
        "df_repayment['status_repayment'] = 'REPAYMENT_COMPLETED'\n",
        "df_repayment['principal_paid'] = int(np.round(1000/6))\n",
        "df_repayment['principal_paid_total'] = df_repayment.groupby(by=['loan_id'])['principal_paid'].cumsum().values.astype(int)\n",
        "df_repayment['principal_total'] = df_repayment['principal_paid'].sum()\n",
        "df_repayment['principal_outstanding'] = df_repayment['principal_total'] - df_repayment['principal_paid_total']\n",
        "df_repayment['loan_amount'] = 1000\n",
        "df_repayment['sold_date'] = pd.to_datetime('2020-01-01')\n",
        "df_repayment['maturity_date'] = pd.to_datetime('2020-05-15')\n",
        "df_repayment['principal_paid_origin'] = df_repayment['principal_paid']"
      ],
      "execution_count": 3,
      "outputs": []
    },
    {
      "cell_type": "code",
      "metadata": {
        "id": "VmTdwAF2g_gZ"
      },
      "source": [
        "# Custom val\n",
        "# df_repayment['principal_paid'] = ['167', '167', '167', '167', '167', '200']"
      ],
      "execution_count": 4,
      "outputs": []
    },
    {
      "cell_type": "code",
      "metadata": {
        "colab": {
          "base_uri": "https://localhost:8080/",
          "height": 232
        },
        "id": "SEymufK2PEFr",
        "outputId": "c2d0d474-7bff-4ad7-93b8-a1df8ae73ed7"
      },
      "source": [
        "df_repayment"
      ],
      "execution_count": 5,
      "outputs": [
        {
          "output_type": "execute_result",
          "data": {
            "text/html": [
              "<div>\n",
              "<style scoped>\n",
              "    .dataframe tbody tr th:only-of-type {\n",
              "        vertical-align: middle;\n",
              "    }\n",
              "\n",
              "    .dataframe tbody tr th {\n",
              "        vertical-align: top;\n",
              "    }\n",
              "\n",
              "    .dataframe thead th {\n",
              "        text-align: right;\n",
              "    }\n",
              "</style>\n",
              "<table border=\"1\" class=\"dataframe\">\n",
              "  <thead>\n",
              "    <tr style=\"text-align: right;\">\n",
              "      <th></th>\n",
              "      <th>repayment_date</th>\n",
              "      <th>loan_id</th>\n",
              "      <th>status_repayment</th>\n",
              "      <th>principal_paid</th>\n",
              "      <th>principal_paid_total</th>\n",
              "      <th>principal_total</th>\n",
              "      <th>principal_outstanding</th>\n",
              "      <th>loan_amount</th>\n",
              "      <th>sold_date</th>\n",
              "      <th>maturity_date</th>\n",
              "      <th>principal_paid_origin</th>\n",
              "    </tr>\n",
              "  </thead>\n",
              "  <tbody>\n",
              "    <tr>\n",
              "      <th>0</th>\n",
              "      <td>2020-01-15</td>\n",
              "      <td>1</td>\n",
              "      <td>REPAYMENT_COMPLETED</td>\n",
              "      <td>167</td>\n",
              "      <td>167</td>\n",
              "      <td>1002</td>\n",
              "      <td>835</td>\n",
              "      <td>1000</td>\n",
              "      <td>2020-01-01</td>\n",
              "      <td>2020-05-15</td>\n",
              "      <td>167</td>\n",
              "    </tr>\n",
              "    <tr>\n",
              "      <th>1</th>\n",
              "      <td>2020-02-15</td>\n",
              "      <td>1</td>\n",
              "      <td>REPAYMENT_COMPLETED</td>\n",
              "      <td>167</td>\n",
              "      <td>334</td>\n",
              "      <td>1002</td>\n",
              "      <td>668</td>\n",
              "      <td>1000</td>\n",
              "      <td>2020-01-01</td>\n",
              "      <td>2020-05-15</td>\n",
              "      <td>167</td>\n",
              "    </tr>\n",
              "    <tr>\n",
              "      <th>2</th>\n",
              "      <td>2020-03-15</td>\n",
              "      <td>1</td>\n",
              "      <td>REPAYMENT_COMPLETED</td>\n",
              "      <td>167</td>\n",
              "      <td>501</td>\n",
              "      <td>1002</td>\n",
              "      <td>501</td>\n",
              "      <td>1000</td>\n",
              "      <td>2020-01-01</td>\n",
              "      <td>2020-05-15</td>\n",
              "      <td>167</td>\n",
              "    </tr>\n",
              "    <tr>\n",
              "      <th>3</th>\n",
              "      <td>2020-04-15</td>\n",
              "      <td>1</td>\n",
              "      <td>REPAYMENT_COMPLETED</td>\n",
              "      <td>167</td>\n",
              "      <td>668</td>\n",
              "      <td>1002</td>\n",
              "      <td>334</td>\n",
              "      <td>1000</td>\n",
              "      <td>2020-01-01</td>\n",
              "      <td>2020-05-15</td>\n",
              "      <td>167</td>\n",
              "    </tr>\n",
              "    <tr>\n",
              "      <th>4</th>\n",
              "      <td>2020-05-15</td>\n",
              "      <td>1</td>\n",
              "      <td>REPAYMENT_COMPLETED</td>\n",
              "      <td>167</td>\n",
              "      <td>835</td>\n",
              "      <td>1002</td>\n",
              "      <td>167</td>\n",
              "      <td>1000</td>\n",
              "      <td>2020-01-01</td>\n",
              "      <td>2020-05-15</td>\n",
              "      <td>167</td>\n",
              "    </tr>\n",
              "    <tr>\n",
              "      <th>5</th>\n",
              "      <td>2020-06-15</td>\n",
              "      <td>1</td>\n",
              "      <td>REPAYMENT_COMPLETED</td>\n",
              "      <td>167</td>\n",
              "      <td>1002</td>\n",
              "      <td>1002</td>\n",
              "      <td>0</td>\n",
              "      <td>1000</td>\n",
              "      <td>2020-01-01</td>\n",
              "      <td>2020-05-15</td>\n",
              "      <td>167</td>\n",
              "    </tr>\n",
              "  </tbody>\n",
              "</table>\n",
              "</div>"
            ],
            "text/plain": [
              "  repayment_date loan_id  ... maturity_date  principal_paid_origin\n",
              "0     2020-01-15       1  ...    2020-05-15                    167\n",
              "1     2020-02-15       1  ...    2020-05-15                    167\n",
              "2     2020-03-15       1  ...    2020-05-15                    167\n",
              "3     2020-04-15       1  ...    2020-05-15                    167\n",
              "4     2020-05-15       1  ...    2020-05-15                    167\n",
              "5     2020-06-15       1  ...    2020-05-15                    167\n",
              "\n",
              "[6 rows x 11 columns]"
            ]
          },
          "metadata": {
            "tags": []
          },
          "execution_count": 5
        }
      ]
    },
    {
      "cell_type": "markdown",
      "metadata": {
        "id": "1u1u-LCHhS1w"
      },
      "source": [
        "# df_dateminmax\n",
        "\n",
        "Min & Max repayment date"
      ]
    },
    {
      "cell_type": "code",
      "metadata": {
        "id": "9Gl8Lc-oeyj6"
      },
      "source": [
        "# Get repayment_date min & max from df_repayment\n",
        "# Rename multi-index column name\n",
        "col = ['loan_id', 'repayment_date', 'principal_total', 'loan_amount']\n",
        "df_dateminmax = df_repayment.loc[:, col].groupby(by=['loan_id'], as_index=False).agg({'repayment_date':[np.max, np.min]})\n",
        "df_dateminmax.columns = df_dateminmax.columns.to_flat_index()\n",
        "df_dateminmax.rename(columns={('loan_id', ''): 'loan_id', ('repayment_date', 'amax'): 'max_repayment_date', ('repayment_date', 'amin'): 'min_repayment_date'}, inplace=True)"
      ],
      "execution_count": 6,
      "outputs": []
    },
    {
      "cell_type": "code",
      "metadata": {
        "id": "MtxY3uPHhr3o"
      },
      "source": [
        "# Merge df_repayment & df_dateminmax, new column max_repayment_date & min_repayment_date\n",
        "df_repayment = df_repayment.merge(df_dateminmax, how='left', left_on='loan_id', right_on='loan_id')"
      ],
      "execution_count": 7,
      "outputs": []
    },
    {
      "cell_type": "code",
      "metadata": {
        "colab": {
          "base_uri": "https://localhost:8080/",
          "height": 110
        },
        "id": "6DjOPwZyhsRD",
        "outputId": "a5793c13-a870-4bef-9e00-30c02627af1e"
      },
      "source": [
        "##\n",
        "col = ['loan_id', 'repayment_date', 'principal_paid_origin', 'principal_paid', 'principal_paid_total', 'principal_outstanding', 'principal_total', 'loan_amount', 'sold_date', 'maturity_date',  'max_repayment_date', 'min_repayment_date']\n",
        "df_repayment.loc[:, col].head(2)"
      ],
      "execution_count": 8,
      "outputs": [
        {
          "output_type": "execute_result",
          "data": {
            "text/html": [
              "<div>\n",
              "<style scoped>\n",
              "    .dataframe tbody tr th:only-of-type {\n",
              "        vertical-align: middle;\n",
              "    }\n",
              "\n",
              "    .dataframe tbody tr th {\n",
              "        vertical-align: top;\n",
              "    }\n",
              "\n",
              "    .dataframe thead th {\n",
              "        text-align: right;\n",
              "    }\n",
              "</style>\n",
              "<table border=\"1\" class=\"dataframe\">\n",
              "  <thead>\n",
              "    <tr style=\"text-align: right;\">\n",
              "      <th></th>\n",
              "      <th>loan_id</th>\n",
              "      <th>repayment_date</th>\n",
              "      <th>principal_paid_origin</th>\n",
              "      <th>principal_paid</th>\n",
              "      <th>principal_paid_total</th>\n",
              "      <th>principal_outstanding</th>\n",
              "      <th>principal_total</th>\n",
              "      <th>loan_amount</th>\n",
              "      <th>sold_date</th>\n",
              "      <th>maturity_date</th>\n",
              "      <th>max_repayment_date</th>\n",
              "      <th>min_repayment_date</th>\n",
              "    </tr>\n",
              "  </thead>\n",
              "  <tbody>\n",
              "    <tr>\n",
              "      <th>0</th>\n",
              "      <td>1</td>\n",
              "      <td>2020-01-15</td>\n",
              "      <td>167</td>\n",
              "      <td>167</td>\n",
              "      <td>167</td>\n",
              "      <td>835</td>\n",
              "      <td>1002</td>\n",
              "      <td>1000</td>\n",
              "      <td>2020-01-01</td>\n",
              "      <td>2020-05-15</td>\n",
              "      <td>2020-06-15</td>\n",
              "      <td>2020-01-15</td>\n",
              "    </tr>\n",
              "    <tr>\n",
              "      <th>1</th>\n",
              "      <td>1</td>\n",
              "      <td>2020-02-15</td>\n",
              "      <td>167</td>\n",
              "      <td>167</td>\n",
              "      <td>334</td>\n",
              "      <td>668</td>\n",
              "      <td>1002</td>\n",
              "      <td>1000</td>\n",
              "      <td>2020-01-01</td>\n",
              "      <td>2020-05-15</td>\n",
              "      <td>2020-06-15</td>\n",
              "      <td>2020-01-15</td>\n",
              "    </tr>\n",
              "  </tbody>\n",
              "</table>\n",
              "</div>"
            ],
            "text/plain": [
              "  loan_id repayment_date  ...  max_repayment_date  min_repayment_date\n",
              "0       1     2020-01-15  ...          2020-06-15          2020-01-15\n",
              "1       1     2020-02-15  ...          2020-06-15          2020-01-15\n",
              "\n",
              "[2 rows x 12 columns]"
            ]
          },
          "metadata": {
            "tags": []
          },
          "execution_count": 8
        }
      ]
    },
    {
      "cell_type": "markdown",
      "metadata": {
        "id": "tGn8Ie-yi_6W"
      },
      "source": [
        "# PREVIOUS REPAYMENT DATE"
      ]
    },
    {
      "cell_type": "code",
      "metadata": {
        "id": "9NpjNVcZhtKK"
      },
      "source": [
        "# Create new column previous_repayment_date\n",
        "# Filter if repayment_date is equal to min_repayment_date\n",
        "# True: loan_sold_date\n",
        "# False: use previous repayment_date\n",
        "cond_x = df_repayment['repayment_date'] == df_repayment['min_repayment_date']\n",
        "choice_x = df_repayment['sold_date'].values\n",
        "prev_date = df_repayment['repayment_date'].shift(1)\n",
        "\n",
        "df_repayment['previous_repayment_date'] = np.where(cond_x, choice_x, prev_date)"
      ],
      "execution_count": 9,
      "outputs": []
    },
    {
      "cell_type": "code",
      "metadata": {
        "colab": {
          "base_uri": "https://localhost:8080/",
          "height": 110
        },
        "id": "NuByttoPjZ3P",
        "outputId": "6176039d-0e02-4059-b4f5-c549008dbf1c"
      },
      "source": [
        "##\n",
        "col = ['loan_id', 'repayment_date', 'previous_repayment_date', 'maturity_date']\n",
        "df_repayment.loc[:, col].head(2)"
      ],
      "execution_count": 10,
      "outputs": [
        {
          "output_type": "execute_result",
          "data": {
            "text/html": [
              "<div>\n",
              "<style scoped>\n",
              "    .dataframe tbody tr th:only-of-type {\n",
              "        vertical-align: middle;\n",
              "    }\n",
              "\n",
              "    .dataframe tbody tr th {\n",
              "        vertical-align: top;\n",
              "    }\n",
              "\n",
              "    .dataframe thead th {\n",
              "        text-align: right;\n",
              "    }\n",
              "</style>\n",
              "<table border=\"1\" class=\"dataframe\">\n",
              "  <thead>\n",
              "    <tr style=\"text-align: right;\">\n",
              "      <th></th>\n",
              "      <th>loan_id</th>\n",
              "      <th>repayment_date</th>\n",
              "      <th>previous_repayment_date</th>\n",
              "      <th>maturity_date</th>\n",
              "    </tr>\n",
              "  </thead>\n",
              "  <tbody>\n",
              "    <tr>\n",
              "      <th>0</th>\n",
              "      <td>1</td>\n",
              "      <td>2020-01-15</td>\n",
              "      <td>2020-01-01</td>\n",
              "      <td>2020-05-15</td>\n",
              "    </tr>\n",
              "    <tr>\n",
              "      <th>1</th>\n",
              "      <td>1</td>\n",
              "      <td>2020-02-15</td>\n",
              "      <td>2020-01-15</td>\n",
              "      <td>2020-05-15</td>\n",
              "    </tr>\n",
              "  </tbody>\n",
              "</table>\n",
              "</div>"
            ],
            "text/plain": [
              "  loan_id repayment_date previous_repayment_date maturity_date\n",
              "0       1     2020-01-15              2020-01-01    2020-05-15\n",
              "1       1     2020-02-15              2020-01-15    2020-05-15"
            ]
          },
          "metadata": {
            "tags": []
          },
          "execution_count": 10
        }
      ]
    },
    {
      "cell_type": "markdown",
      "metadata": {
        "id": "-If2JPGxjnr_"
      },
      "source": [
        "# REPAYMENT LAST CYCLE"
      ]
    },
    {
      "cell_type": "code",
      "metadata": {
        "id": "ERp_IlkgjkKk"
      },
      "source": [
        "# Check whether repayment already reach its last cycle date by using loan_maturity_date as benchmark\n",
        "# True: repayment inside cycle date\n",
        "# False: repayment outside cycle date\n",
        "range_1 = df_repayment['previous_repayment_date'] + pd.Timedelta(days=1)\n",
        "range_2 = df_repayment['repayment_date']\n",
        "df_repayment['repayment_last_cycle'] = df_repayment['maturity_date'].between(range_1, range_2)"
      ],
      "execution_count": 11,
      "outputs": []
    },
    {
      "cell_type": "code",
      "metadata": {
        "colab": {
          "base_uri": "https://localhost:8080/",
          "height": 232
        },
        "id": "eNs3puP_kR6m",
        "outputId": "87040778-eff4-4888-d73a-5d2509dae4d2"
      },
      "source": [
        "##\n",
        "col = ['loan_id', 'repayment_date', 'previous_repayment_date', 'maturity_date', 'repayment_last_cycle']\n",
        "df_repayment.loc[:, col]"
      ],
      "execution_count": 12,
      "outputs": [
        {
          "output_type": "execute_result",
          "data": {
            "text/html": [
              "<div>\n",
              "<style scoped>\n",
              "    .dataframe tbody tr th:only-of-type {\n",
              "        vertical-align: middle;\n",
              "    }\n",
              "\n",
              "    .dataframe tbody tr th {\n",
              "        vertical-align: top;\n",
              "    }\n",
              "\n",
              "    .dataframe thead th {\n",
              "        text-align: right;\n",
              "    }\n",
              "</style>\n",
              "<table border=\"1\" class=\"dataframe\">\n",
              "  <thead>\n",
              "    <tr style=\"text-align: right;\">\n",
              "      <th></th>\n",
              "      <th>loan_id</th>\n",
              "      <th>repayment_date</th>\n",
              "      <th>previous_repayment_date</th>\n",
              "      <th>maturity_date</th>\n",
              "      <th>repayment_last_cycle</th>\n",
              "    </tr>\n",
              "  </thead>\n",
              "  <tbody>\n",
              "    <tr>\n",
              "      <th>0</th>\n",
              "      <td>1</td>\n",
              "      <td>2020-01-15</td>\n",
              "      <td>2020-01-01</td>\n",
              "      <td>2020-05-15</td>\n",
              "      <td>False</td>\n",
              "    </tr>\n",
              "    <tr>\n",
              "      <th>1</th>\n",
              "      <td>1</td>\n",
              "      <td>2020-02-15</td>\n",
              "      <td>2020-01-15</td>\n",
              "      <td>2020-05-15</td>\n",
              "      <td>False</td>\n",
              "    </tr>\n",
              "    <tr>\n",
              "      <th>2</th>\n",
              "      <td>1</td>\n",
              "      <td>2020-03-15</td>\n",
              "      <td>2020-02-15</td>\n",
              "      <td>2020-05-15</td>\n",
              "      <td>False</td>\n",
              "    </tr>\n",
              "    <tr>\n",
              "      <th>3</th>\n",
              "      <td>1</td>\n",
              "      <td>2020-04-15</td>\n",
              "      <td>2020-03-15</td>\n",
              "      <td>2020-05-15</td>\n",
              "      <td>False</td>\n",
              "    </tr>\n",
              "    <tr>\n",
              "      <th>4</th>\n",
              "      <td>1</td>\n",
              "      <td>2020-05-15</td>\n",
              "      <td>2020-04-15</td>\n",
              "      <td>2020-05-15</td>\n",
              "      <td>True</td>\n",
              "    </tr>\n",
              "    <tr>\n",
              "      <th>5</th>\n",
              "      <td>1</td>\n",
              "      <td>2020-06-15</td>\n",
              "      <td>2020-05-15</td>\n",
              "      <td>2020-05-15</td>\n",
              "      <td>False</td>\n",
              "    </tr>\n",
              "  </tbody>\n",
              "</table>\n",
              "</div>"
            ],
            "text/plain": [
              "  loan_id repayment_date  ... maturity_date repayment_last_cycle\n",
              "0       1     2020-01-15  ...    2020-05-15                False\n",
              "1       1     2020-02-15  ...    2020-05-15                False\n",
              "2       1     2020-03-15  ...    2020-05-15                False\n",
              "3       1     2020-04-15  ...    2020-05-15                False\n",
              "4       1     2020-05-15  ...    2020-05-15                 True\n",
              "5       1     2020-06-15  ...    2020-05-15                False\n",
              "\n",
              "[6 rows x 5 columns]"
            ]
          },
          "metadata": {
            "tags": []
          },
          "execution_count": 12
        }
      ]
    },
    {
      "cell_type": "markdown",
      "metadata": {
        "id": "nXsv-PCTk_C9"
      },
      "source": [
        "# CONDITIONS"
      ]
    },
    {
      "cell_type": "code",
      "metadata": {
        "colab": {
          "base_uri": "https://localhost:8080/",
          "height": 110
        },
        "id": "LOFP677mlGJQ",
        "outputId": "ffd7e4e0-908c-44e4-928e-e17ae93c4630"
      },
      "source": [
        "##\n",
        "col = ['loan_id', 'principal_total', 'loan_amount', 'maturity_date', 'repayment_date', 'max_repayment_date', 'repayment_last_cycle']\n",
        "df_repayment.loc[:, col].tail(2)"
      ],
      "execution_count": 13,
      "outputs": [
        {
          "output_type": "execute_result",
          "data": {
            "text/html": [
              "<div>\n",
              "<style scoped>\n",
              "    .dataframe tbody tr th:only-of-type {\n",
              "        vertical-align: middle;\n",
              "    }\n",
              "\n",
              "    .dataframe tbody tr th {\n",
              "        vertical-align: top;\n",
              "    }\n",
              "\n",
              "    .dataframe thead th {\n",
              "        text-align: right;\n",
              "    }\n",
              "</style>\n",
              "<table border=\"1\" class=\"dataframe\">\n",
              "  <thead>\n",
              "    <tr style=\"text-align: right;\">\n",
              "      <th></th>\n",
              "      <th>loan_id</th>\n",
              "      <th>principal_total</th>\n",
              "      <th>loan_amount</th>\n",
              "      <th>maturity_date</th>\n",
              "      <th>repayment_date</th>\n",
              "      <th>max_repayment_date</th>\n",
              "      <th>repayment_last_cycle</th>\n",
              "    </tr>\n",
              "  </thead>\n",
              "  <tbody>\n",
              "    <tr>\n",
              "      <th>4</th>\n",
              "      <td>1</td>\n",
              "      <td>1002</td>\n",
              "      <td>1000</td>\n",
              "      <td>2020-05-15</td>\n",
              "      <td>2020-05-15</td>\n",
              "      <td>2020-06-15</td>\n",
              "      <td>True</td>\n",
              "    </tr>\n",
              "    <tr>\n",
              "      <th>5</th>\n",
              "      <td>1</td>\n",
              "      <td>1002</td>\n",
              "      <td>1000</td>\n",
              "      <td>2020-05-15</td>\n",
              "      <td>2020-06-15</td>\n",
              "      <td>2020-06-15</td>\n",
              "      <td>False</td>\n",
              "    </tr>\n",
              "  </tbody>\n",
              "</table>\n",
              "</div>"
            ],
            "text/plain": [
              "  loan_id  principal_total  ...  max_repayment_date repayment_last_cycle\n",
              "4       1             1002  ...          2020-06-15                 True\n",
              "5       1             1002  ...          2020-06-15                False\n",
              "\n",
              "[2 rows x 7 columns]"
            ]
          },
          "metadata": {
            "tags": []
          },
          "execution_count": 13
        }
      ]
    },
    {
      "cell_type": "code",
      "metadata": {
        "id": "6R_ioHoBk2I_"
      },
      "source": [
        "# nb: Maturity_date loan itu harus sama dengan last_repayment_date\n",
        "\n",
        "# Check if repayment principal_total not equal as loan_amount\n",
        "cond_1 = df_repayment['principal_total'] != df_repayment['loan_amount']\n",
        "\n",
        "# Check if loan_maturity_date is less than or equal to repayment_date, loan already beyond maturity\n",
        "cond_2 = df_repayment['maturity_date'].values <= df_repayment['repayment_date'].values\n",
        "\n",
        "# Check if loan_maturity_date is greater than repayment_date, loan yet matured.\n",
        "cond_3 = df_repayment['repayment_date'].values < df_repayment['maturity_date'].values\n",
        "\n",
        "# Check if repayment_date equal to max_repayment_date (guard a.k.a kondisi yg ngejagain supaya row yang ditampilkan hanya repayment terakhir)\n",
        "cond_4 = df_repayment['repayment_date'] == df_repayment['max_repayment_date']\n",
        "\n",
        "# Repayment inside last cycle period \n",
        "cond_cycle_t = (df_repayment['repayment_last_cycle'] == True)\n",
        "\n",
        "# Repayment outside last cycle period\n",
        "cond_cycle_f = (df_repayment['repayment_last_cycle'] == False)\n",
        "\n",
        "# cond_premature = Recalculate repayment that have diff (cond_1), loan yet to mature (cond_3), only the last repayment (cond_4) a.k.a schedule matured before maturity_date, and outside the repayment cycle (cond_cycle_f)\n",
        "# cond_mature = Recalculate schedule that have diff amount (cond_1), maturity_date less or equal to repayment_date (cond_2) and inside the repayment cycle (cond_cycle_t)\n",
        "# cond_already_matured = For schedule that already beyond its maturity (cond_2), and outside the repayment cycle (cond_cycle_f)\n",
        "cond_premature = cond_1 & cond_3 & cond_4 & cond_cycle_f\n",
        "cond_mature = cond_1 & cond_2 & cond_cycle_t\n",
        "cond_already_matured = cond_1 & cond_2 & cond_cycle_f"
      ],
      "execution_count": 14,
      "outputs": []
    },
    {
      "cell_type": "markdown",
      "metadata": {
        "id": "x3aC7ZAvm-ij"
      },
      "source": [
        "# Check principal"
      ]
    },
    {
      "cell_type": "code",
      "metadata": {
        "id": "bj6PQDWym2Wu"
      },
      "source": [
        "# Create new column principal_check\n",
        "# cond_1 = check if loan_amount not equal to principal_total a.k.a diff\n",
        "# cond_2 = flag when loan_maturity_date is less than or equal to repayment_date\n",
        "# cond_4 = Get the max repayment_date, put \"need to check\" if there is a diff\n",
        "df_repayment['principal_check'] = np.where(\n",
        "    cond_1 & (cond_2 | cond_4), \n",
        "    'NEED TO CHECK', '')"
      ],
      "execution_count": 15,
      "outputs": []
    },
    {
      "cell_type": "code",
      "metadata": {
        "colab": {
          "base_uri": "https://localhost:8080/",
          "height": 232
        },
        "id": "UAbTrAf9nLQT",
        "outputId": "03f29db4-4a04-414a-813e-0f2862158eea"
      },
      "source": [
        "##\n",
        "col = ['loan_id', 'principal_total', 'loan_amount', 'maturity_date', 'repayment_date', 'max_repayment_date', 'repayment_last_cycle', 'principal_check']\n",
        "df_repayment.loc[:, col]"
      ],
      "execution_count": 16,
      "outputs": [
        {
          "output_type": "execute_result",
          "data": {
            "text/html": [
              "<div>\n",
              "<style scoped>\n",
              "    .dataframe tbody tr th:only-of-type {\n",
              "        vertical-align: middle;\n",
              "    }\n",
              "\n",
              "    .dataframe tbody tr th {\n",
              "        vertical-align: top;\n",
              "    }\n",
              "\n",
              "    .dataframe thead th {\n",
              "        text-align: right;\n",
              "    }\n",
              "</style>\n",
              "<table border=\"1\" class=\"dataframe\">\n",
              "  <thead>\n",
              "    <tr style=\"text-align: right;\">\n",
              "      <th></th>\n",
              "      <th>loan_id</th>\n",
              "      <th>principal_total</th>\n",
              "      <th>loan_amount</th>\n",
              "      <th>maturity_date</th>\n",
              "      <th>repayment_date</th>\n",
              "      <th>max_repayment_date</th>\n",
              "      <th>repayment_last_cycle</th>\n",
              "      <th>principal_check</th>\n",
              "    </tr>\n",
              "  </thead>\n",
              "  <tbody>\n",
              "    <tr>\n",
              "      <th>0</th>\n",
              "      <td>1</td>\n",
              "      <td>1002</td>\n",
              "      <td>1000</td>\n",
              "      <td>2020-05-15</td>\n",
              "      <td>2020-01-15</td>\n",
              "      <td>2020-06-15</td>\n",
              "      <td>False</td>\n",
              "      <td></td>\n",
              "    </tr>\n",
              "    <tr>\n",
              "      <th>1</th>\n",
              "      <td>1</td>\n",
              "      <td>1002</td>\n",
              "      <td>1000</td>\n",
              "      <td>2020-05-15</td>\n",
              "      <td>2020-02-15</td>\n",
              "      <td>2020-06-15</td>\n",
              "      <td>False</td>\n",
              "      <td></td>\n",
              "    </tr>\n",
              "    <tr>\n",
              "      <th>2</th>\n",
              "      <td>1</td>\n",
              "      <td>1002</td>\n",
              "      <td>1000</td>\n",
              "      <td>2020-05-15</td>\n",
              "      <td>2020-03-15</td>\n",
              "      <td>2020-06-15</td>\n",
              "      <td>False</td>\n",
              "      <td></td>\n",
              "    </tr>\n",
              "    <tr>\n",
              "      <th>3</th>\n",
              "      <td>1</td>\n",
              "      <td>1002</td>\n",
              "      <td>1000</td>\n",
              "      <td>2020-05-15</td>\n",
              "      <td>2020-04-15</td>\n",
              "      <td>2020-06-15</td>\n",
              "      <td>False</td>\n",
              "      <td></td>\n",
              "    </tr>\n",
              "    <tr>\n",
              "      <th>4</th>\n",
              "      <td>1</td>\n",
              "      <td>1002</td>\n",
              "      <td>1000</td>\n",
              "      <td>2020-05-15</td>\n",
              "      <td>2020-05-15</td>\n",
              "      <td>2020-06-15</td>\n",
              "      <td>True</td>\n",
              "      <td>NEED TO CHECK</td>\n",
              "    </tr>\n",
              "    <tr>\n",
              "      <th>5</th>\n",
              "      <td>1</td>\n",
              "      <td>1002</td>\n",
              "      <td>1000</td>\n",
              "      <td>2020-05-15</td>\n",
              "      <td>2020-06-15</td>\n",
              "      <td>2020-06-15</td>\n",
              "      <td>False</td>\n",
              "      <td>NEED TO CHECK</td>\n",
              "    </tr>\n",
              "  </tbody>\n",
              "</table>\n",
              "</div>"
            ],
            "text/plain": [
              "  loan_id  principal_total  ...  repayment_last_cycle principal_check\n",
              "0       1             1002  ...                 False                \n",
              "1       1             1002  ...                 False                \n",
              "2       1             1002  ...                 False                \n",
              "3       1             1002  ...                 False                \n",
              "4       1             1002  ...                  True   NEED TO CHECK\n",
              "5       1             1002  ...                 False   NEED TO CHECK\n",
              "\n",
              "[6 rows x 8 columns]"
            ]
          },
          "metadata": {
            "tags": []
          },
          "execution_count": 16
        }
      ]
    },
    {
      "cell_type": "markdown",
      "metadata": {
        "id": "skMcKW77oBDA"
      },
      "source": [
        "# Count Anomaly Repayment"
      ]
    },
    {
      "cell_type": "code",
      "metadata": {
        "id": "YCIfEXEbnRQj"
      },
      "source": [
        "# Filter principal_check column that contain 'NEED TO CHECK' string\n",
        "row = df_repayment['principal_check'].str.contains('NEED TO CHECK')"
      ],
      "execution_count": 17,
      "outputs": []
    },
    {
      "cell_type": "code",
      "metadata": {
        "id": "QOxXCsSUoSOm"
      },
      "source": [
        "# Count anomaly repayment schedule per loan_id\n",
        "col = ['loan_id', 'principal_check']\n",
        "df_count_anomaly = df_repayment.loc[row, col].groupby(by=['loan_id'])['principal_check'].count().to_frame(name='count_anomaly').reset_index()"
      ],
      "execution_count": 18,
      "outputs": []
    },
    {
      "cell_type": "code",
      "metadata": {
        "colab": {
          "base_uri": "https://localhost:8080/",
          "height": 78
        },
        "id": "JY19hiTSosvU",
        "outputId": "e8105484-b784-460a-ead0-2eb74aee2975"
      },
      "source": [
        "df_count_anomaly"
      ],
      "execution_count": 19,
      "outputs": [
        {
          "output_type": "execute_result",
          "data": {
            "text/html": [
              "<div>\n",
              "<style scoped>\n",
              "    .dataframe tbody tr th:only-of-type {\n",
              "        vertical-align: middle;\n",
              "    }\n",
              "\n",
              "    .dataframe tbody tr th {\n",
              "        vertical-align: top;\n",
              "    }\n",
              "\n",
              "    .dataframe thead th {\n",
              "        text-align: right;\n",
              "    }\n",
              "</style>\n",
              "<table border=\"1\" class=\"dataframe\">\n",
              "  <thead>\n",
              "    <tr style=\"text-align: right;\">\n",
              "      <th></th>\n",
              "      <th>loan_id</th>\n",
              "      <th>count_anomaly</th>\n",
              "    </tr>\n",
              "  </thead>\n",
              "  <tbody>\n",
              "    <tr>\n",
              "      <th>0</th>\n",
              "      <td>1</td>\n",
              "      <td>2</td>\n",
              "    </tr>\n",
              "  </tbody>\n",
              "</table>\n",
              "</div>"
            ],
            "text/plain": [
              "  loan_id  count_anomaly\n",
              "0       1              2"
            ]
          },
          "metadata": {
            "tags": []
          },
          "execution_count": 19
        }
      ]
    },
    {
      "cell_type": "code",
      "metadata": {
        "id": "efRVefjeoUzE"
      },
      "source": [
        "# Get repayment_date that flagged as \"Anomaly\"\n",
        "col = ['loan_id', 'repayment_date']\n",
        "df_count_anomaly = df_count_anomaly.merge(df_repayment.loc[row, col], how='left', left_on='loan_id', right_on='loan_id')"
      ],
      "execution_count": 20,
      "outputs": []
    },
    {
      "cell_type": "code",
      "metadata": {
        "colab": {
          "base_uri": "https://localhost:8080/",
          "height": 110
        },
        "id": "IsGDKoZsouP6",
        "outputId": "88694fa6-2f91-4500-c5b5-bf841b8bcc50"
      },
      "source": [
        "df_count_anomaly"
      ],
      "execution_count": 21,
      "outputs": [
        {
          "output_type": "execute_result",
          "data": {
            "text/html": [
              "<div>\n",
              "<style scoped>\n",
              "    .dataframe tbody tr th:only-of-type {\n",
              "        vertical-align: middle;\n",
              "    }\n",
              "\n",
              "    .dataframe tbody tr th {\n",
              "        vertical-align: top;\n",
              "    }\n",
              "\n",
              "    .dataframe thead th {\n",
              "        text-align: right;\n",
              "    }\n",
              "</style>\n",
              "<table border=\"1\" class=\"dataframe\">\n",
              "  <thead>\n",
              "    <tr style=\"text-align: right;\">\n",
              "      <th></th>\n",
              "      <th>loan_id</th>\n",
              "      <th>count_anomaly</th>\n",
              "      <th>repayment_date</th>\n",
              "    </tr>\n",
              "  </thead>\n",
              "  <tbody>\n",
              "    <tr>\n",
              "      <th>0</th>\n",
              "      <td>1</td>\n",
              "      <td>2</td>\n",
              "      <td>2020-05-15</td>\n",
              "    </tr>\n",
              "    <tr>\n",
              "      <th>1</th>\n",
              "      <td>1</td>\n",
              "      <td>2</td>\n",
              "      <td>2020-06-15</td>\n",
              "    </tr>\n",
              "  </tbody>\n",
              "</table>\n",
              "</div>"
            ],
            "text/plain": [
              "  loan_id  count_anomaly repayment_date\n",
              "0       1              2     2020-05-15\n",
              "1       1              2     2020-06-15"
            ]
          },
          "metadata": {
            "tags": []
          },
          "execution_count": 21
        }
      ]
    },
    {
      "cell_type": "code",
      "metadata": {
        "id": "mUUjUmVlobKu"
      },
      "source": [
        "# Merge df_repayment & df_count_anomaly\n",
        "df_repayment = df_repayment.merge(df_count_anomaly, how='left', left_on=['loan_id', 'repayment_date'], right_on=['loan_id', 'repayment_date'])"
      ],
      "execution_count": 22,
      "outputs": []
    },
    {
      "cell_type": "code",
      "metadata": {
        "id": "bJQyVVQVodBK"
      },
      "source": [
        "# Create new column count_anomaly & fill the new column null values with 0\n",
        "df_repayment['count_anomaly'] = df_repayment['count_anomaly'].fillna(value = 0)"
      ],
      "execution_count": 23,
      "outputs": []
    },
    {
      "cell_type": "code",
      "metadata": {
        "colab": {
          "base_uri": "https://localhost:8080/",
          "height": 232
        },
        "id": "-00AeHDfodiv",
        "outputId": "bb40c228-4f42-4241-bd3c-82a6baba4008"
      },
      "source": [
        "##\n",
        "col = ['loan_id', 'principal_check', 'count_anomaly']\n",
        "df_repayment.loc[:, col]"
      ],
      "execution_count": 24,
      "outputs": [
        {
          "output_type": "execute_result",
          "data": {
            "text/html": [
              "<div>\n",
              "<style scoped>\n",
              "    .dataframe tbody tr th:only-of-type {\n",
              "        vertical-align: middle;\n",
              "    }\n",
              "\n",
              "    .dataframe tbody tr th {\n",
              "        vertical-align: top;\n",
              "    }\n",
              "\n",
              "    .dataframe thead th {\n",
              "        text-align: right;\n",
              "    }\n",
              "</style>\n",
              "<table border=\"1\" class=\"dataframe\">\n",
              "  <thead>\n",
              "    <tr style=\"text-align: right;\">\n",
              "      <th></th>\n",
              "      <th>loan_id</th>\n",
              "      <th>principal_check</th>\n",
              "      <th>count_anomaly</th>\n",
              "    </tr>\n",
              "  </thead>\n",
              "  <tbody>\n",
              "    <tr>\n",
              "      <th>0</th>\n",
              "      <td>1</td>\n",
              "      <td></td>\n",
              "      <td>0.000</td>\n",
              "    </tr>\n",
              "    <tr>\n",
              "      <th>1</th>\n",
              "      <td>1</td>\n",
              "      <td></td>\n",
              "      <td>0.000</td>\n",
              "    </tr>\n",
              "    <tr>\n",
              "      <th>2</th>\n",
              "      <td>1</td>\n",
              "      <td></td>\n",
              "      <td>0.000</td>\n",
              "    </tr>\n",
              "    <tr>\n",
              "      <th>3</th>\n",
              "      <td>1</td>\n",
              "      <td></td>\n",
              "      <td>0.000</td>\n",
              "    </tr>\n",
              "    <tr>\n",
              "      <th>4</th>\n",
              "      <td>1</td>\n",
              "      <td>NEED TO CHECK</td>\n",
              "      <td>2.000</td>\n",
              "    </tr>\n",
              "    <tr>\n",
              "      <th>5</th>\n",
              "      <td>1</td>\n",
              "      <td>NEED TO CHECK</td>\n",
              "      <td>2.000</td>\n",
              "    </tr>\n",
              "  </tbody>\n",
              "</table>\n",
              "</div>"
            ],
            "text/plain": [
              "  loan_id principal_check  count_anomaly\n",
              "0       1                          0.000\n",
              "1       1                          0.000\n",
              "2       1                          0.000\n",
              "3       1                          0.000\n",
              "4       1   NEED TO CHECK          2.000\n",
              "5       1   NEED TO CHECK          2.000"
            ]
          },
          "metadata": {
            "tags": []
          },
          "execution_count": 24
        }
      ]
    },
    {
      "cell_type": "markdown",
      "metadata": {
        "id": "kTrbUGfRpWJ1"
      },
      "source": [
        "# PRINCIPAL_PAID_recalc\n",
        "\n"
      ]
    },
    {
      "cell_type": "code",
      "metadata": {
        "colab": {
          "base_uri": "https://localhost:8080/"
        },
        "id": "0vc8TqXCpa3U",
        "outputId": "de0b67b0-71a4-4843-cb0f-9819e2685a7d"
      },
      "source": [
        "df_repayment.dtypes"
      ],
      "execution_count": 25,
      "outputs": [
        {
          "output_type": "execute_result",
          "data": {
            "text/plain": [
              "repayment_date             datetime64[ns]\n",
              "loan_id                            object\n",
              "status_repayment                   object\n",
              "principal_paid                      int64\n",
              "principal_paid_total                int64\n",
              "principal_total                     int64\n",
              "principal_outstanding               int64\n",
              "loan_amount                         int64\n",
              "sold_date                  datetime64[ns]\n",
              "maturity_date              datetime64[ns]\n",
              "principal_paid_origin               int64\n",
              "max_repayment_date         datetime64[ns]\n",
              "min_repayment_date         datetime64[ns]\n",
              "previous_repayment_date    datetime64[ns]\n",
              "repayment_last_cycle                 bool\n",
              "principal_check                    object\n",
              "count_anomaly                     float64\n",
              "dtype: object"
            ]
          },
          "metadata": {
            "tags": []
          },
          "execution_count": 25
        }
      ]
    },
    {
      "cell_type": "code",
      "metadata": {
        "id": "Sae6Ct4gohsg"
      },
      "source": [
        "# Diff amount between loan_amount & repayment principal_total\n",
        "diff = df_repayment['loan_amount'] - df_repayment['principal_total']"
      ],
      "execution_count": 26,
      "outputs": []
    },
    {
      "cell_type": "code",
      "metadata": {
        "id": "MMqeX-_ZpZp_"
      },
      "source": [
        "# Create new column principal_paid_recalc\n",
        "# Condition[1]: Recalculate schedule that have diff amount (cond_1), maturity_date less or equal to repayment_date (cond_2), and inside the repayment cycle (cond_cycle_t);\n",
        "#               Or Recalculate repayment that doesn't pass through the maturity_date (cond_3) & only the last repayment (cond_4) a.k.a schedule matured before maturity_date.\n",
        "# choice_1: Principal_paid times count_anomaly because principal_total was sum of all principal_paid including the anomaly schedule. \n",
        "# After updated, you need count_anomaly so that principal_paid_recalc sum equal to the principal_total \n",
        "# add that with the diff from (loan_amount - principal_total) and you get the sum of principal_paid_recalc equal to loan_amount\n",
        "# Condition[2]: For schedule that already beyond its maturity (cond_2), and outside the repayment cycle (cond_cycle_f)\n",
        "# choice_2: set to zero because schedule already beyond maturity_date\n",
        "# Else\n",
        "# choice_default: equal to principal_paid column\n",
        "choice_1 = (df_repayment['principal_paid'] * df_repayment['count_anomaly']) + diff\n",
        "choice_default = df_repayment['principal_paid']\n",
        "conditions = [\n",
        "              cond_mature | cond_premature,\n",
        "              cond_already_matured\n",
        "]\n",
        "choices = [\n",
        "           choice_1,\n",
        "           0.000\n",
        "]\n",
        "df_repayment['principal_paid_recalc'] = np.select(conditions, choices, default = choice_default)\n",
        "df_repayment['principal_paid_recalc'] = df_repayment['principal_paid_recalc'].astype(int)"
      ],
      "execution_count": 37,
      "outputs": []
    },
    {
      "cell_type": "code",
      "metadata": {
        "colab": {
          "base_uri": "https://localhost:8080/",
          "height": 232
        },
        "id": "pxIbQmRhpxGV",
        "outputId": "46e50da9-11c4-4a91-855a-a731e062215c"
      },
      "source": [
        "##\n",
        "col = ['loan_id', 'maturity_date', 'repayment_date', 'max_repayment_date', 'principal_paid', 'principal_paid_recalc', 'principal_total', 'loan_amount', 'count_anomaly']\n",
        "df_repayment.loc[:, col]"
      ],
      "execution_count": 38,
      "outputs": [
        {
          "output_type": "execute_result",
          "data": {
            "text/html": [
              "<div>\n",
              "<style scoped>\n",
              "    .dataframe tbody tr th:only-of-type {\n",
              "        vertical-align: middle;\n",
              "    }\n",
              "\n",
              "    .dataframe tbody tr th {\n",
              "        vertical-align: top;\n",
              "    }\n",
              "\n",
              "    .dataframe thead th {\n",
              "        text-align: right;\n",
              "    }\n",
              "</style>\n",
              "<table border=\"1\" class=\"dataframe\">\n",
              "  <thead>\n",
              "    <tr style=\"text-align: right;\">\n",
              "      <th></th>\n",
              "      <th>loan_id</th>\n",
              "      <th>maturity_date</th>\n",
              "      <th>repayment_date</th>\n",
              "      <th>max_repayment_date</th>\n",
              "      <th>principal_paid</th>\n",
              "      <th>principal_paid_recalc</th>\n",
              "      <th>principal_total</th>\n",
              "      <th>loan_amount</th>\n",
              "      <th>count_anomaly</th>\n",
              "    </tr>\n",
              "  </thead>\n",
              "  <tbody>\n",
              "    <tr>\n",
              "      <th>0</th>\n",
              "      <td>1</td>\n",
              "      <td>2020-05-15</td>\n",
              "      <td>2020-01-15</td>\n",
              "      <td>2020-06-15</td>\n",
              "      <td>167</td>\n",
              "      <td>167</td>\n",
              "      <td>1002</td>\n",
              "      <td>1000</td>\n",
              "      <td>0.000</td>\n",
              "    </tr>\n",
              "    <tr>\n",
              "      <th>1</th>\n",
              "      <td>1</td>\n",
              "      <td>2020-05-15</td>\n",
              "      <td>2020-02-15</td>\n",
              "      <td>2020-06-15</td>\n",
              "      <td>167</td>\n",
              "      <td>167</td>\n",
              "      <td>1002</td>\n",
              "      <td>1000</td>\n",
              "      <td>0.000</td>\n",
              "    </tr>\n",
              "    <tr>\n",
              "      <th>2</th>\n",
              "      <td>1</td>\n",
              "      <td>2020-05-15</td>\n",
              "      <td>2020-03-15</td>\n",
              "      <td>2020-06-15</td>\n",
              "      <td>167</td>\n",
              "      <td>167</td>\n",
              "      <td>1002</td>\n",
              "      <td>1000</td>\n",
              "      <td>0.000</td>\n",
              "    </tr>\n",
              "    <tr>\n",
              "      <th>3</th>\n",
              "      <td>1</td>\n",
              "      <td>2020-05-15</td>\n",
              "      <td>2020-04-15</td>\n",
              "      <td>2020-06-15</td>\n",
              "      <td>167</td>\n",
              "      <td>167</td>\n",
              "      <td>1002</td>\n",
              "      <td>1000</td>\n",
              "      <td>0.000</td>\n",
              "    </tr>\n",
              "    <tr>\n",
              "      <th>4</th>\n",
              "      <td>1</td>\n",
              "      <td>2020-05-15</td>\n",
              "      <td>2020-05-15</td>\n",
              "      <td>2020-06-15</td>\n",
              "      <td>167</td>\n",
              "      <td>332</td>\n",
              "      <td>1002</td>\n",
              "      <td>1000</td>\n",
              "      <td>2.000</td>\n",
              "    </tr>\n",
              "    <tr>\n",
              "      <th>5</th>\n",
              "      <td>1</td>\n",
              "      <td>2020-05-15</td>\n",
              "      <td>2020-06-15</td>\n",
              "      <td>2020-06-15</td>\n",
              "      <td>167</td>\n",
              "      <td>0</td>\n",
              "      <td>1002</td>\n",
              "      <td>1000</td>\n",
              "      <td>2.000</td>\n",
              "    </tr>\n",
              "  </tbody>\n",
              "</table>\n",
              "</div>"
            ],
            "text/plain": [
              "  loan_id maturity_date  ... loan_amount count_anomaly\n",
              "0       1    2020-05-15  ...        1000         0.000\n",
              "1       1    2020-05-15  ...        1000         0.000\n",
              "2       1    2020-05-15  ...        1000         0.000\n",
              "3       1    2020-05-15  ...        1000         0.000\n",
              "4       1    2020-05-15  ...        1000         2.000\n",
              "5       1    2020-05-15  ...        1000         2.000\n",
              "\n",
              "[6 rows x 9 columns]"
            ]
          },
          "metadata": {
            "tags": []
          },
          "execution_count": 38
        }
      ]
    },
    {
      "cell_type": "code",
      "metadata": {
        "colab": {
          "base_uri": "https://localhost:8080/"
        },
        "id": "pBemWTrYp3Fa",
        "outputId": "7d8d7b55-c9be-4ec8-e894-603dabfaad09"
      },
      "source": [
        "##\n",
        "col = ['loan_id', 'maturity_date', 'repayment_date', 'principal_paid', 'principal_total', 'loan_amount', 'max_repayment_date', 'principal_paid_recalc']\n",
        "df_repayment.loc[:, col].groupby(by=['loan_id'])['principal_paid_recalc'].sum()"
      ],
      "execution_count": 39,
      "outputs": [
        {
          "output_type": "execute_result",
          "data": {
            "text/plain": [
              "loan_id\n",
              "1    1000\n",
              "Name: principal_paid_recalc, dtype: int64"
            ]
          },
          "metadata": {
            "tags": []
          },
          "execution_count": 39
        }
      ]
    },
    {
      "cell_type": "code",
      "metadata": {
        "colab": {
          "base_uri": "https://localhost:8080/"
        },
        "id": "vdCgaHPMqBhN",
        "outputId": "17eb6c5b-c34d-4e04-a17d-335b4cd13bed"
      },
      "source": [
        "##\n",
        "col = ['loan_id', 'maturity_date', 'repayment_date', 'principal_paid', 'principal_total', 'loan_amount', 'max_repayment_date', 'principal_paid_recalc']\n",
        "df_repayment.loc[:, col].groupby(by=['loan_id'])['principal_paid'].sum()"
      ],
      "execution_count": 40,
      "outputs": [
        {
          "output_type": "execute_result",
          "data": {
            "text/plain": [
              "loan_id\n",
              "1    1002\n",
              "Name: principal_paid, dtype: int64"
            ]
          },
          "metadata": {
            "tags": []
          },
          "execution_count": 40
        }
      ]
    },
    {
      "cell_type": "markdown",
      "metadata": {
        "id": "oiydW21jqb34"
      },
      "source": [
        "# PRINCIPAL_PAID_TOTAL_recalc"
      ]
    },
    {
      "cell_type": "code",
      "metadata": {
        "id": "EavI2CUUqF-i"
      },
      "source": [
        " # Create new column of cumulative sum principal_paid_total_recalc\n",
        " df_repayment['principal_paid_total_recalc'] = df_repayment.groupby(by=['loan_id'])['principal_paid_recalc'].cumsum().values"
      ],
      "execution_count": 41,
      "outputs": []
    },
    {
      "cell_type": "code",
      "metadata": {
        "colab": {
          "base_uri": "https://localhost:8080/",
          "height": 232
        },
        "id": "3uPSUk9yqh1Z",
        "outputId": "51b75be6-70f7-40e7-8afc-057cd1b9cae2"
      },
      "source": [
        "##\n",
        "col = ['loan_id', 'principal_paid_recalc', 'principal_paid_total_recalc']\n",
        "df_repayment.loc[:, col]"
      ],
      "execution_count": 42,
      "outputs": [
        {
          "output_type": "execute_result",
          "data": {
            "text/html": [
              "<div>\n",
              "<style scoped>\n",
              "    .dataframe tbody tr th:only-of-type {\n",
              "        vertical-align: middle;\n",
              "    }\n",
              "\n",
              "    .dataframe tbody tr th {\n",
              "        vertical-align: top;\n",
              "    }\n",
              "\n",
              "    .dataframe thead th {\n",
              "        text-align: right;\n",
              "    }\n",
              "</style>\n",
              "<table border=\"1\" class=\"dataframe\">\n",
              "  <thead>\n",
              "    <tr style=\"text-align: right;\">\n",
              "      <th></th>\n",
              "      <th>loan_id</th>\n",
              "      <th>principal_paid_recalc</th>\n",
              "      <th>principal_paid_total_recalc</th>\n",
              "    </tr>\n",
              "  </thead>\n",
              "  <tbody>\n",
              "    <tr>\n",
              "      <th>0</th>\n",
              "      <td>1</td>\n",
              "      <td>167</td>\n",
              "      <td>167</td>\n",
              "    </tr>\n",
              "    <tr>\n",
              "      <th>1</th>\n",
              "      <td>1</td>\n",
              "      <td>167</td>\n",
              "      <td>334</td>\n",
              "    </tr>\n",
              "    <tr>\n",
              "      <th>2</th>\n",
              "      <td>1</td>\n",
              "      <td>167</td>\n",
              "      <td>501</td>\n",
              "    </tr>\n",
              "    <tr>\n",
              "      <th>3</th>\n",
              "      <td>1</td>\n",
              "      <td>167</td>\n",
              "      <td>668</td>\n",
              "    </tr>\n",
              "    <tr>\n",
              "      <th>4</th>\n",
              "      <td>1</td>\n",
              "      <td>332</td>\n",
              "      <td>1000</td>\n",
              "    </tr>\n",
              "    <tr>\n",
              "      <th>5</th>\n",
              "      <td>1</td>\n",
              "      <td>0</td>\n",
              "      <td>1000</td>\n",
              "    </tr>\n",
              "  </tbody>\n",
              "</table>\n",
              "</div>"
            ],
            "text/plain": [
              "  loan_id  principal_paid_recalc  principal_paid_total_recalc\n",
              "0       1                    167                          167\n",
              "1       1                    167                          334\n",
              "2       1                    167                          501\n",
              "3       1                    167                          668\n",
              "4       1                    332                         1000\n",
              "5       1                      0                         1000"
            ]
          },
          "metadata": {
            "tags": []
          },
          "execution_count": 42
        }
      ]
    },
    {
      "cell_type": "markdown",
      "metadata": {
        "id": "uYa2fvcNqmJO"
      },
      "source": [
        "# PRINCIPAL_TOTAL_recalc"
      ]
    },
    {
      "cell_type": "code",
      "metadata": {
        "id": "bLIpjLZ9qjmv"
      },
      "source": [
        "# Check if repayment principal_total not equal to loan_amount\n",
        "# Sum principal_paid_recalc then, rename to principal_total_recalc\n",
        "row = (df_repayment['principal_total'] != df_repayment['loan_amount'])\n",
        "df_principal_total_recalc = df_repayment.loc[row, :].groupby(by=['loan_id'])['principal_paid_recalc'].sum().to_frame(name='principal_total_recalc').reset_index()"
      ],
      "execution_count": 43,
      "outputs": []
    },
    {
      "cell_type": "code",
      "metadata": {
        "colab": {
          "base_uri": "https://localhost:8080/",
          "height": 78
        },
        "id": "gzh9aDLwrOXX",
        "outputId": "75075101-e484-4376-c1c7-4a50fc39b8d0"
      },
      "source": [
        "df_principal_total_recalc"
      ],
      "execution_count": 49,
      "outputs": [
        {
          "output_type": "execute_result",
          "data": {
            "text/html": [
              "<div>\n",
              "<style scoped>\n",
              "    .dataframe tbody tr th:only-of-type {\n",
              "        vertical-align: middle;\n",
              "    }\n",
              "\n",
              "    .dataframe tbody tr th {\n",
              "        vertical-align: top;\n",
              "    }\n",
              "\n",
              "    .dataframe thead th {\n",
              "        text-align: right;\n",
              "    }\n",
              "</style>\n",
              "<table border=\"1\" class=\"dataframe\">\n",
              "  <thead>\n",
              "    <tr style=\"text-align: right;\">\n",
              "      <th></th>\n",
              "      <th>loan_id</th>\n",
              "      <th>principal_total_recalc</th>\n",
              "    </tr>\n",
              "  </thead>\n",
              "  <tbody>\n",
              "    <tr>\n",
              "      <th>0</th>\n",
              "      <td>1</td>\n",
              "      <td>1000</td>\n",
              "    </tr>\n",
              "  </tbody>\n",
              "</table>\n",
              "</div>"
            ],
            "text/plain": [
              "  loan_id  principal_total_recalc\n",
              "0       1                    1000"
            ]
          },
          "metadata": {
            "tags": []
          },
          "execution_count": 49
        }
      ]
    },
    {
      "cell_type": "code",
      "metadata": {
        "id": "et_x-qI_qxO3"
      },
      "source": [
        "# Merge df_repayment & df_principal_total_recalc, new column principal_paid_recalc\n",
        "df_repayment = df_repayment.merge(df_principal_total_recalc, how='left', left_on='loan_id', right_on='loan_id')"
      ],
      "execution_count": 44,
      "outputs": []
    },
    {
      "cell_type": "code",
      "metadata": {
        "id": "FQfZcgfXqx7m"
      },
      "source": [
        "# Fill the principal_total_recalc column null values by using principal_total\n",
        "# Untuk diisi dengan principal_total yang loan nya tidak di adjust alias loan ny bener.\n",
        "df_repayment['principal_total_recalc'] = df_repayment['principal_total_recalc'].fillna(value = df_repayment['principal_total'])"
      ],
      "execution_count": 45,
      "outputs": []
    },
    {
      "cell_type": "code",
      "metadata": {
        "colab": {
          "base_uri": "https://localhost:8080/",
          "height": 232
        },
        "id": "aZla-N6Bqy4e",
        "outputId": "18c0df6e-38f8-4fe5-e61c-212134feb4bb"
      },
      "source": [
        "##\n",
        "col = ['loan_id', 'loan_amount', 'repayment_date', 'maturity_date', 'principal_check', 'principal_paid', 'principal_paid_recalc', 'principal_total', 'principal_total_recalc']\n",
        "df_repayment.loc[:, col]"
      ],
      "execution_count": 48,
      "outputs": [
        {
          "output_type": "execute_result",
          "data": {
            "text/html": [
              "<div>\n",
              "<style scoped>\n",
              "    .dataframe tbody tr th:only-of-type {\n",
              "        vertical-align: middle;\n",
              "    }\n",
              "\n",
              "    .dataframe tbody tr th {\n",
              "        vertical-align: top;\n",
              "    }\n",
              "\n",
              "    .dataframe thead th {\n",
              "        text-align: right;\n",
              "    }\n",
              "</style>\n",
              "<table border=\"1\" class=\"dataframe\">\n",
              "  <thead>\n",
              "    <tr style=\"text-align: right;\">\n",
              "      <th></th>\n",
              "      <th>loan_id</th>\n",
              "      <th>loan_amount</th>\n",
              "      <th>repayment_date</th>\n",
              "      <th>maturity_date</th>\n",
              "      <th>principal_check</th>\n",
              "      <th>principal_paid</th>\n",
              "      <th>principal_paid_recalc</th>\n",
              "      <th>principal_total</th>\n",
              "      <th>principal_total_recalc</th>\n",
              "    </tr>\n",
              "  </thead>\n",
              "  <tbody>\n",
              "    <tr>\n",
              "      <th>0</th>\n",
              "      <td>1</td>\n",
              "      <td>1000</td>\n",
              "      <td>2020-01-15</td>\n",
              "      <td>2020-05-15</td>\n",
              "      <td></td>\n",
              "      <td>167</td>\n",
              "      <td>167</td>\n",
              "      <td>1002</td>\n",
              "      <td>1000</td>\n",
              "    </tr>\n",
              "    <tr>\n",
              "      <th>1</th>\n",
              "      <td>1</td>\n",
              "      <td>1000</td>\n",
              "      <td>2020-02-15</td>\n",
              "      <td>2020-05-15</td>\n",
              "      <td></td>\n",
              "      <td>167</td>\n",
              "      <td>167</td>\n",
              "      <td>1002</td>\n",
              "      <td>1000</td>\n",
              "    </tr>\n",
              "    <tr>\n",
              "      <th>2</th>\n",
              "      <td>1</td>\n",
              "      <td>1000</td>\n",
              "      <td>2020-03-15</td>\n",
              "      <td>2020-05-15</td>\n",
              "      <td></td>\n",
              "      <td>167</td>\n",
              "      <td>167</td>\n",
              "      <td>1002</td>\n",
              "      <td>1000</td>\n",
              "    </tr>\n",
              "    <tr>\n",
              "      <th>3</th>\n",
              "      <td>1</td>\n",
              "      <td>1000</td>\n",
              "      <td>2020-04-15</td>\n",
              "      <td>2020-05-15</td>\n",
              "      <td></td>\n",
              "      <td>167</td>\n",
              "      <td>167</td>\n",
              "      <td>1002</td>\n",
              "      <td>1000</td>\n",
              "    </tr>\n",
              "    <tr>\n",
              "      <th>4</th>\n",
              "      <td>1</td>\n",
              "      <td>1000</td>\n",
              "      <td>2020-05-15</td>\n",
              "      <td>2020-05-15</td>\n",
              "      <td>NEED TO CHECK</td>\n",
              "      <td>167</td>\n",
              "      <td>332</td>\n",
              "      <td>1002</td>\n",
              "      <td>1000</td>\n",
              "    </tr>\n",
              "    <tr>\n",
              "      <th>5</th>\n",
              "      <td>1</td>\n",
              "      <td>1000</td>\n",
              "      <td>2020-06-15</td>\n",
              "      <td>2020-05-15</td>\n",
              "      <td>NEED TO CHECK</td>\n",
              "      <td>167</td>\n",
              "      <td>0</td>\n",
              "      <td>1002</td>\n",
              "      <td>1000</td>\n",
              "    </tr>\n",
              "  </tbody>\n",
              "</table>\n",
              "</div>"
            ],
            "text/plain": [
              "  loan_id  loan_amount  ... principal_total principal_total_recalc\n",
              "0       1         1000  ...            1002                   1000\n",
              "1       1         1000  ...            1002                   1000\n",
              "2       1         1000  ...            1002                   1000\n",
              "3       1         1000  ...            1002                   1000\n",
              "4       1         1000  ...            1002                   1000\n",
              "5       1         1000  ...            1002                   1000\n",
              "\n",
              "[6 rows x 9 columns]"
            ]
          },
          "metadata": {
            "tags": []
          },
          "execution_count": 48
        }
      ]
    },
    {
      "cell_type": "markdown",
      "metadata": {
        "id": "0OeVVaXFrJgA"
      },
      "source": [
        "# PRINCIPAL_OUTSTANDING_recalc"
      ]
    },
    {
      "cell_type": "code",
      "metadata": {
        "id": "md9FRKJTq1Wu"
      },
      "source": [
        "# Create new column principal_outstanding_recalc\n",
        "df_repayment['principal_outstanding_recalc'] = df_repayment['principal_total_recalc'] - df_repayment['principal_paid_total_recalc']"
      ],
      "execution_count": 50,
      "outputs": []
    },
    {
      "cell_type": "code",
      "metadata": {
        "colab": {
          "base_uri": "https://localhost:8080/",
          "height": 232
        },
        "id": "IfYjxl1ksRnS",
        "outputId": "7cb0b79c-c9f0-4a90-f37e-8c193807cf67"
      },
      "source": [
        "##\n",
        "col = ['loan_id', 'principal_outstanding_recalc', 'principal_paid_recalc', 'principal_paid_total_recalc', 'principal_total_recalc']\n",
        "df_repayment.loc[:, col]"
      ],
      "execution_count": 51,
      "outputs": [
        {
          "output_type": "execute_result",
          "data": {
            "text/html": [
              "<div>\n",
              "<style scoped>\n",
              "    .dataframe tbody tr th:only-of-type {\n",
              "        vertical-align: middle;\n",
              "    }\n",
              "\n",
              "    .dataframe tbody tr th {\n",
              "        vertical-align: top;\n",
              "    }\n",
              "\n",
              "    .dataframe thead th {\n",
              "        text-align: right;\n",
              "    }\n",
              "</style>\n",
              "<table border=\"1\" class=\"dataframe\">\n",
              "  <thead>\n",
              "    <tr style=\"text-align: right;\">\n",
              "      <th></th>\n",
              "      <th>loan_id</th>\n",
              "      <th>principal_outstanding_recalc</th>\n",
              "      <th>principal_paid_recalc</th>\n",
              "      <th>principal_paid_total_recalc</th>\n",
              "      <th>principal_total_recalc</th>\n",
              "    </tr>\n",
              "  </thead>\n",
              "  <tbody>\n",
              "    <tr>\n",
              "      <th>0</th>\n",
              "      <td>1</td>\n",
              "      <td>833</td>\n",
              "      <td>167</td>\n",
              "      <td>167</td>\n",
              "      <td>1000</td>\n",
              "    </tr>\n",
              "    <tr>\n",
              "      <th>1</th>\n",
              "      <td>1</td>\n",
              "      <td>666</td>\n",
              "      <td>167</td>\n",
              "      <td>334</td>\n",
              "      <td>1000</td>\n",
              "    </tr>\n",
              "    <tr>\n",
              "      <th>2</th>\n",
              "      <td>1</td>\n",
              "      <td>499</td>\n",
              "      <td>167</td>\n",
              "      <td>501</td>\n",
              "      <td>1000</td>\n",
              "    </tr>\n",
              "    <tr>\n",
              "      <th>3</th>\n",
              "      <td>1</td>\n",
              "      <td>332</td>\n",
              "      <td>167</td>\n",
              "      <td>668</td>\n",
              "      <td>1000</td>\n",
              "    </tr>\n",
              "    <tr>\n",
              "      <th>4</th>\n",
              "      <td>1</td>\n",
              "      <td>0</td>\n",
              "      <td>332</td>\n",
              "      <td>1000</td>\n",
              "      <td>1000</td>\n",
              "    </tr>\n",
              "    <tr>\n",
              "      <th>5</th>\n",
              "      <td>1</td>\n",
              "      <td>0</td>\n",
              "      <td>0</td>\n",
              "      <td>1000</td>\n",
              "      <td>1000</td>\n",
              "    </tr>\n",
              "  </tbody>\n",
              "</table>\n",
              "</div>"
            ],
            "text/plain": [
              "  loan_id  ...  principal_total_recalc\n",
              "0       1  ...                    1000\n",
              "1       1  ...                    1000\n",
              "2       1  ...                    1000\n",
              "3       1  ...                    1000\n",
              "4       1  ...                    1000\n",
              "5       1  ...                    1000\n",
              "\n",
              "[6 rows x 5 columns]"
            ]
          },
          "metadata": {
            "tags": []
          },
          "execution_count": 51
        }
      ]
    },
    {
      "cell_type": "code",
      "metadata": {
        "colab": {
          "base_uri": "https://localhost:8080/"
        },
        "id": "kuR50EbgsTyz",
        "outputId": "6362ac10-f102-43f6-fb54-e6da7586006a"
      },
      "source": [
        "## principal_paid_recalc\n",
        "col = ['loan_id', 'principal_paid_recalc']\n",
        "df_repayment.loc[:, col].groupby(by=['loan_id'])['principal_paid_recalc'].sum()"
      ],
      "execution_count": 52,
      "outputs": [
        {
          "output_type": "execute_result",
          "data": {
            "text/plain": [
              "loan_id\n",
              "1    1000\n",
              "Name: principal_paid_recalc, dtype: int64"
            ]
          },
          "metadata": {
            "tags": []
          },
          "execution_count": 52
        }
      ]
    },
    {
      "cell_type": "markdown",
      "metadata": {
        "id": "O9B-P0VouT5b"
      },
      "source": [
        "# Check Interest"
      ]
    },
    {
      "cell_type": "code",
      "metadata": {
        "id": "FlujjCqAuTan"
      },
      "source": [
        "# Create new column interest_check\n",
        "# Condition[1]: Schedule already matured, ex: maturity_date jan_1, last repayment_date feb 15\n",
        "# choice_1: ALREADY MATURED\n",
        "# Condition[2]: Schedule is in range of maturity_date or inside cycle date, ex: maturity_date jan 1, last repayment_date jan 15.\n",
        "# choice_2: MATURE\n",
        "# Condition[3]: Schedule mature before maturity_date, ex: maturity_date feb 1, last repayment_date jan 15\n",
        "# choice_3: PREMATURE; means that there is none of schedule that goes beyond maturity_date a.k.a gk ada repayment yg kelebihan jadwal, jadi langsung cek repayment terakhir aja\n",
        "conditions = [\n",
        "              cond_already_matured,\n",
        "              cond_mature,\n",
        "              cond_premature\n",
        "]\n",
        "choices = [\n",
        "           'ALREADY MATURED',\n",
        "           'MATURE',\n",
        "           'PREMATURE'\n",
        "]\n",
        "df_repayment['interest_check'] = np.select(conditions, choices, default = '')"
      ],
      "execution_count": 54,
      "outputs": []
    },
    {
      "cell_type": "code",
      "metadata": {
        "colab": {
          "base_uri": "https://localhost:8080/",
          "height": 232
        },
        "id": "VmH139qGuZI9",
        "outputId": "de9c0e4d-bdd5-4e77-e91d-c7452790df4f"
      },
      "source": [
        "##\n",
        "col = ['loan_id', 'loan_amount', 'repayment_date', 'maturity_date', 'max_repayment_date', 'min_repayment_date', 'interest_check', 'principal_check']\n",
        "df_repayment.loc[:, col]"
      ],
      "execution_count": 57,
      "outputs": [
        {
          "output_type": "execute_result",
          "data": {
            "text/html": [
              "<div>\n",
              "<style scoped>\n",
              "    .dataframe tbody tr th:only-of-type {\n",
              "        vertical-align: middle;\n",
              "    }\n",
              "\n",
              "    .dataframe tbody tr th {\n",
              "        vertical-align: top;\n",
              "    }\n",
              "\n",
              "    .dataframe thead th {\n",
              "        text-align: right;\n",
              "    }\n",
              "</style>\n",
              "<table border=\"1\" class=\"dataframe\">\n",
              "  <thead>\n",
              "    <tr style=\"text-align: right;\">\n",
              "      <th></th>\n",
              "      <th>loan_id</th>\n",
              "      <th>loan_amount</th>\n",
              "      <th>repayment_date</th>\n",
              "      <th>maturity_date</th>\n",
              "      <th>max_repayment_date</th>\n",
              "      <th>min_repayment_date</th>\n",
              "      <th>interest_check</th>\n",
              "      <th>principal_check</th>\n",
              "    </tr>\n",
              "  </thead>\n",
              "  <tbody>\n",
              "    <tr>\n",
              "      <th>0</th>\n",
              "      <td>1</td>\n",
              "      <td>1000</td>\n",
              "      <td>2020-01-15</td>\n",
              "      <td>2020-05-15</td>\n",
              "      <td>2020-06-15</td>\n",
              "      <td>2020-01-15</td>\n",
              "      <td></td>\n",
              "      <td></td>\n",
              "    </tr>\n",
              "    <tr>\n",
              "      <th>1</th>\n",
              "      <td>1</td>\n",
              "      <td>1000</td>\n",
              "      <td>2020-02-15</td>\n",
              "      <td>2020-05-15</td>\n",
              "      <td>2020-06-15</td>\n",
              "      <td>2020-01-15</td>\n",
              "      <td></td>\n",
              "      <td></td>\n",
              "    </tr>\n",
              "    <tr>\n",
              "      <th>2</th>\n",
              "      <td>1</td>\n",
              "      <td>1000</td>\n",
              "      <td>2020-03-15</td>\n",
              "      <td>2020-05-15</td>\n",
              "      <td>2020-06-15</td>\n",
              "      <td>2020-01-15</td>\n",
              "      <td></td>\n",
              "      <td></td>\n",
              "    </tr>\n",
              "    <tr>\n",
              "      <th>3</th>\n",
              "      <td>1</td>\n",
              "      <td>1000</td>\n",
              "      <td>2020-04-15</td>\n",
              "      <td>2020-05-15</td>\n",
              "      <td>2020-06-15</td>\n",
              "      <td>2020-01-15</td>\n",
              "      <td></td>\n",
              "      <td></td>\n",
              "    </tr>\n",
              "    <tr>\n",
              "      <th>4</th>\n",
              "      <td>1</td>\n",
              "      <td>1000</td>\n",
              "      <td>2020-05-15</td>\n",
              "      <td>2020-05-15</td>\n",
              "      <td>2020-06-15</td>\n",
              "      <td>2020-01-15</td>\n",
              "      <td>MATURE</td>\n",
              "      <td>NEED TO CHECK</td>\n",
              "    </tr>\n",
              "    <tr>\n",
              "      <th>5</th>\n",
              "      <td>1</td>\n",
              "      <td>1000</td>\n",
              "      <td>2020-06-15</td>\n",
              "      <td>2020-05-15</td>\n",
              "      <td>2020-06-15</td>\n",
              "      <td>2020-01-15</td>\n",
              "      <td>ALREADY MATURED</td>\n",
              "      <td>NEED TO CHECK</td>\n",
              "    </tr>\n",
              "  </tbody>\n",
              "</table>\n",
              "</div>"
            ],
            "text/plain": [
              "  loan_id  loan_amount  ...   interest_check principal_check\n",
              "0       1         1000  ...                                 \n",
              "1       1         1000  ...                                 \n",
              "2       1         1000  ...                                 \n",
              "3       1         1000  ...                                 \n",
              "4       1         1000  ...           MATURE   NEED TO CHECK\n",
              "5       1         1000  ...  ALREADY MATURED   NEED TO CHECK\n",
              "\n",
              "[6 rows x 8 columns]"
            ]
          },
          "metadata": {
            "tags": []
          },
          "execution_count": 57
        }
      ]
    },
    {
      "cell_type": "markdown",
      "metadata": {
        "id": "QuLRlOWyuAvL"
      },
      "source": [
        "# Result"
      ]
    },
    {
      "cell_type": "code",
      "metadata": {
        "colab": {
          "base_uri": "https://localhost:8080/",
          "height": 232
        },
        "id": "sA4sJYQlsXL8",
        "outputId": "02e5d43d-6dbb-4b5d-f149-b8d76684c5be"
      },
      "source": [
        "# Display necessary column for prod\n",
        "col = ['loan_id', 'repayment_date', \n",
        "       'principal_paid_origin', 'principal_paid_recalc', 'principal_paid_total_recalc', 'principal_outstanding_recalc', 'principal_total_recalc', \n",
        "       'status_repayment', 'interest_check', 'principal_check']\n",
        "df_repayment.loc[:, col]"
      ],
      "execution_count": 60,
      "outputs": [
        {
          "output_type": "execute_result",
          "data": {
            "text/html": [
              "<div>\n",
              "<style scoped>\n",
              "    .dataframe tbody tr th:only-of-type {\n",
              "        vertical-align: middle;\n",
              "    }\n",
              "\n",
              "    .dataframe tbody tr th {\n",
              "        vertical-align: top;\n",
              "    }\n",
              "\n",
              "    .dataframe thead th {\n",
              "        text-align: right;\n",
              "    }\n",
              "</style>\n",
              "<table border=\"1\" class=\"dataframe\">\n",
              "  <thead>\n",
              "    <tr style=\"text-align: right;\">\n",
              "      <th></th>\n",
              "      <th>loan_id</th>\n",
              "      <th>repayment_date</th>\n",
              "      <th>principal_paid_origin</th>\n",
              "      <th>principal_paid_recalc</th>\n",
              "      <th>principal_paid_total_recalc</th>\n",
              "      <th>principal_outstanding_recalc</th>\n",
              "      <th>principal_total_recalc</th>\n",
              "      <th>status_repayment</th>\n",
              "      <th>interest_check</th>\n",
              "      <th>principal_check</th>\n",
              "    </tr>\n",
              "  </thead>\n",
              "  <tbody>\n",
              "    <tr>\n",
              "      <th>0</th>\n",
              "      <td>1</td>\n",
              "      <td>2020-01-15</td>\n",
              "      <td>167</td>\n",
              "      <td>167</td>\n",
              "      <td>167</td>\n",
              "      <td>833</td>\n",
              "      <td>1000</td>\n",
              "      <td>REPAYMENT_COMPLETED</td>\n",
              "      <td></td>\n",
              "      <td></td>\n",
              "    </tr>\n",
              "    <tr>\n",
              "      <th>1</th>\n",
              "      <td>1</td>\n",
              "      <td>2020-02-15</td>\n",
              "      <td>167</td>\n",
              "      <td>167</td>\n",
              "      <td>334</td>\n",
              "      <td>666</td>\n",
              "      <td>1000</td>\n",
              "      <td>REPAYMENT_COMPLETED</td>\n",
              "      <td></td>\n",
              "      <td></td>\n",
              "    </tr>\n",
              "    <tr>\n",
              "      <th>2</th>\n",
              "      <td>1</td>\n",
              "      <td>2020-03-15</td>\n",
              "      <td>167</td>\n",
              "      <td>167</td>\n",
              "      <td>501</td>\n",
              "      <td>499</td>\n",
              "      <td>1000</td>\n",
              "      <td>REPAYMENT_COMPLETED</td>\n",
              "      <td></td>\n",
              "      <td></td>\n",
              "    </tr>\n",
              "    <tr>\n",
              "      <th>3</th>\n",
              "      <td>1</td>\n",
              "      <td>2020-04-15</td>\n",
              "      <td>167</td>\n",
              "      <td>167</td>\n",
              "      <td>668</td>\n",
              "      <td>332</td>\n",
              "      <td>1000</td>\n",
              "      <td>REPAYMENT_COMPLETED</td>\n",
              "      <td></td>\n",
              "      <td></td>\n",
              "    </tr>\n",
              "    <tr>\n",
              "      <th>4</th>\n",
              "      <td>1</td>\n",
              "      <td>2020-05-15</td>\n",
              "      <td>167</td>\n",
              "      <td>332</td>\n",
              "      <td>1000</td>\n",
              "      <td>0</td>\n",
              "      <td>1000</td>\n",
              "      <td>REPAYMENT_COMPLETED</td>\n",
              "      <td>MATURE</td>\n",
              "      <td>NEED TO CHECK</td>\n",
              "    </tr>\n",
              "    <tr>\n",
              "      <th>5</th>\n",
              "      <td>1</td>\n",
              "      <td>2020-06-15</td>\n",
              "      <td>167</td>\n",
              "      <td>0</td>\n",
              "      <td>1000</td>\n",
              "      <td>0</td>\n",
              "      <td>1000</td>\n",
              "      <td>REPAYMENT_COMPLETED</td>\n",
              "      <td>ALREADY MATURED</td>\n",
              "      <td>NEED TO CHECK</td>\n",
              "    </tr>\n",
              "  </tbody>\n",
              "</table>\n",
              "</div>"
            ],
            "text/plain": [
              "  loan_id repayment_date  ...   interest_check  principal_check\n",
              "0       1     2020-01-15  ...                                  \n",
              "1       1     2020-02-15  ...                                  \n",
              "2       1     2020-03-15  ...                                  \n",
              "3       1     2020-04-15  ...                                  \n",
              "4       1     2020-05-15  ...           MATURE    NEED TO CHECK\n",
              "5       1     2020-06-15  ...  ALREADY MATURED    NEED TO CHECK\n",
              "\n",
              "[6 rows x 10 columns]"
            ]
          },
          "metadata": {
            "tags": []
          },
          "execution_count": 60
        }
      ]
    },
    {
      "cell_type": "markdown",
      "metadata": {
        "id": "8MxlJx69u8C2"
      },
      "source": [
        "# ggwp mekar team :)"
      ]
    },
    {
      "cell_type": "code",
      "metadata": {
        "id": "PuLue8xlu8dF"
      },
      "source": [
        ""
      ],
      "execution_count": null,
      "outputs": []
    }
  ]
}